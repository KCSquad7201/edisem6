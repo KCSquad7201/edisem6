{
 "cells": [
  {
   "cell_type": "code",
   "execution_count": null,
   "metadata": {},
   "outputs": [],
   "source": [
    "import numpy as np\n",
    "import pandas as pd\n",
    "import matplotlib.pyplot as plt\n",
    "import geopandas as gpd\n",
    "import osmnx as ox\n",
    "from descartes import PolygonPatch\n",
    "from shapely.geometry import Point, LineString, Polygon, MultiPolygon"
   ]
  },
  {
   "cell_type": "code",
   "execution_count": null,
   "metadata": {},
   "outputs": [],
   "source": [
    "yerevan = gpd.read_file(\"Yerevan shapefile/Yerevan.shp\")\n",
    "yerevan.head()"
   ]
  },
  {
   "cell_type": "code",
   "execution_count": null,
   "metadata": {},
   "outputs": [],
   "source": [
    "yerevan.plot()"
   ]
  },
  {
   "cell_type": "code",
   "execution_count": null,
   "metadata": {},
   "outputs": [],
   "source": [
    "yerevan.crs"
   ]
  },
  {
   "cell_type": "code",
   "execution_count": null,
   "metadata": {},
   "outputs": [],
   "source": [
    "# load yerevan city from openstreetmap using osmmnx api\n",
    "city = ox.geocode_to_gdf(\"Yerevan, Armenia\")\n",
    "print(city.crs)\n",
    "city = ox.project_gdf(city)\n",
    "fig, ax = ox.plot_footprints(city)\n",
    "print(city.crs)"
   ]
  },
  {
   "cell_type": "code",
   "execution_count": null,
   "metadata": {},
   "outputs": [],
   "source": [
    "city.to_file('Output/Yerevan_city.shp')"
   ]
  },
  {
   "cell_type": "code",
   "execution_count": null,
   "metadata": {},
   "outputs": [],
   "source": [
    "geometry = city['geometry'].iloc[0]\n",
    "print(type(geometry))"
   ]
  },
  {
   "cell_type": "code",
   "execution_count": null,
   "metadata": {},
   "outputs": [],
   "source": [
    "geometry_cut = ox.utils_geo._quadrat_cut_geometry(geometry, quadrat_width = 750)\n",
    "print(type(geometry_cut))"
   ]
  },
  {
   "cell_type": "code",
   "execution_count": null,
   "metadata": {},
   "outputs": [],
   "source": [
    "polylist = [p for p in geometry_cut]\n",
    "\n",
    "# plot city\n",
    "west, south, east, north = city.unary_union.bounds\n",
    "\n",
    "fig, ax = plt.subplots(figsize=(40,40))\n",
    "for polygon, n in zip(geometry_cut, np.arange(len(polylist))):\n",
    "    p = polygon.representative_point().coords[:][0]\n",
    "    patch = PolygonPatch(polygon, fc='#ffffff', ec='#000000', alpha=0.5, zorder=2)\n",
    "    ax.add_patch(patch)\n",
    "    plt.annotate(text=n, xy=p, horizontalalignment='center', size=15)\n",
    "    \n",
    "ax.set_xlim(west, east)\n",
    "ax.set_ylim(south, north)\n",
    "ax.axis('off')\n",
    "plt.show()"
   ]
  },
  {
   "cell_type": "code",
   "execution_count": null,
   "metadata": {},
   "outputs": [],
   "source": [
    "polyframe = gpd.GeoDataFrame(geometry=polylist)\n",
    "polyframe.crs = city.crs\n",
    "print(polyframe.crs)\n",
    "polyframe.head()"
   ]
  },
  {
   "cell_type": "code",
   "execution_count": null,
   "metadata": {},
   "outputs": [],
   "source": [
    "len(polyframe)"
   ]
  },
  {
   "cell_type": "code",
   "execution_count": null,
   "metadata": {},
   "outputs": [],
   "source": [
    "import contextily as ctx\n",
    "# ctx uses epsg:3857\n",
    "polyframe_3857 = polyframe.to_crs(epsg=3857)\n",
    "west, south, east, north = polyframe_3857.unary_union.bounds\n",
    "\n",
    "ax = polyframe_3857.plot(figsize=(40,40), alpha=0.5, edgecolor='k')\n",
    "ctx.add_basemap(ax, zoom=13)\n",
    "ax.set_xlim(west, east)\n",
    "ax.set_ylim(south, north)"
   ]
  },
  {
   "cell_type": "code",
   "execution_count": null,
   "metadata": {},
   "outputs": [],
   "source": [
    "l = len(polylist)\n",
    "OD_matrix = np.zeros(shape=(l,l))\n",
    "print(OD_matrix)"
   ]
  },
  {
   "cell_type": "code",
   "execution_count": null,
   "metadata": {},
   "outputs": [],
   "source": [
    "import pickle\n",
    "pkl_file = open(\"Materials/Yerevan_grid_population.pkl\", \"rb\")\n",
    "yerevan_pop = pickle.load(pkl_file)\n",
    "pkl_file.close()\n",
    "print(yerevan_pop)"
   ]
  },
  {
   "cell_type": "code",
   "execution_count": null,
   "metadata": {},
   "outputs": [],
   "source": [
    "plt.hist(yerevan_pop, bins=50)\n",
    "plt.show()"
   ]
  },
  {
   "cell_type": "code",
   "execution_count": null,
   "metadata": {
    "scrolled": true
   },
   "outputs": [],
   "source": [
    "yerevan_gdf = gpd.read_file('Yerevan grid shapefile/Yerevan.shp')\n",
    "yerevan_gdf.head()"
   ]
  },
  {
   "cell_type": "code",
   "execution_count": null,
   "metadata": {},
   "outputs": [],
   "source": [
    "print('Yerevan geodataframe length: ', len(yerevan_gdf))\n",
    "print('Yerevan population array length: ', len(yerevan_pop))"
   ]
  },
  {
   "cell_type": "code",
   "execution_count": null,
   "metadata": {},
   "outputs": [],
   "source": [
    "yerevan_gdf['population'] = yerevan_pop\n",
    "yerevan_gdf.head()"
   ]
  },
  {
   "cell_type": "code",
   "execution_count": null,
   "metadata": {},
   "outputs": [],
   "source": [
    "polylist = [p for p in polyframe_3857.geometry]\n",
    "\n",
    "# plot city\n",
    "west, south, east, north = polyframe_3857.unary_union.bounds\n",
    "\n",
    "ax = polyframe_3857.plot(figsize=(40,40), alpha=0.5, edgecolor='k', zorder=5)\n",
    "for polygon, n in zip(polylist, np.arange(len(polylist))):\n",
    "    p = polygon.representative_point().coords[:][0]\n",
    "    patch = PolygonPatch(polygon, fc='#ffffff', ec='#000000', alpha=0.5, zorder=2)\n",
    "    ax.add_patch(patch)\n",
    "    plt.annotate(text=n, xy=p, horizontalalignment='center', size=15)\n",
    "ctx.add_basemap(ax, zoom=13)\n",
    "    \n",
    "ax.set_xlim(west, east)\n",
    "ax.set_ylim(south, north)\n",
    "ax.axis('off')\n",
    "plt.show()"
   ]
  },
  {
   "cell_type": "code",
   "execution_count": null,
   "metadata": {},
   "outputs": [],
   "source": [
    "plt.rcParams.update({'font.size':32})\n",
    "west, south, east, north = yerevan_gdf.unary_union.bounds\n",
    "\n",
    "fig, ax = plt.subplots(figsize=(40,40))\n",
    "yerevan_gdf.plot(ax=ax, column = 'population', legend=False, cmap='rainbow')\n",
    "\n",
    "cbax = fig.add_axes([0.915, 0.175, 0.02, 0.7])\n",
    "\n",
    "sm = plt.cm.ScalarMappable(cmap='rainbow', \\\n",
    "                          norm = plt.Normalize(vmin=min(yerevan_gdf.population), vmax=max(yerevan_gdf.population)))\n",
    "\n",
    "sm._A = []\n",
    "\n",
    "# draw colormap into cbax\n",
    "\n",
    "fig.colorbar(sm, cax=cbax, format=\"%d\")\n",
    "\n",
    "ax.set_xlim(west, east)\n",
    "ax.set_ylim(south, north)\n",
    "ax.axis('off')\n",
    "plt.show()"
   ]
  }
 ],
 "metadata": {
  "kernelspec": {
   "display_name": "Python 3",
   "language": "python",
   "name": "python3"
  },
  "language_info": {
   "codemirror_mode": {
    "name": "ipython",
    "version": 3
   },
   "file_extension": ".py",
   "mimetype": "text/x-python",
   "name": "python",
   "nbconvert_exporter": "python",
   "pygments_lexer": "ipython3",
   "version": "3.9.1"
  }
 },
 "nbformat": 4,
 "nbformat_minor": 2
}
